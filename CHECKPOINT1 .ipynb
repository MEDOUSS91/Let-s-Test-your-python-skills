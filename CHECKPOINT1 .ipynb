{
  "nbformat": 4,
  "nbformat_minor": 0,
  "metadata": {
    "kernelspec": {
      "display_name": "Python 3",
      "language": "python",
      "name": "python3"
    },
    "language_info": {
      "codemirror_mode": {
        "name": "ipython",
        "version": 3
      },
      "file_extension": ".py",
      "mimetype": "text/x-python",
      "name": "python",
      "nbconvert_exporter": "python",
      "pygments_lexer": "ipython3",
      "version": "3.7.3"
    },
    "colab": {
      "name": "CHECKPOINT1.ipynb",
      "provenance": [],
      "collapsed_sections": []
    }
  },
  "cells": [
    {
      "cell_type": "markdown",
      "metadata": {
        "id": "nfsDD96EEY-e",
        "colab_type": "text"
      },
      "source": [
        "q1\n"
      ]
    },
    {
      "cell_type": "code",
      "metadata": {
        "id": "bYFCDScAEY-g",
        "colab_type": "code",
        "colab": {}
      },
      "source": [
        "for x in range(2000,3201):\n",
        "    if(x%7==0 and x%5!=0):\n",
        "print(x, end=',')\n"
      ],
      "execution_count": null,
      "outputs": []
    },
    {
      "cell_type": "markdown",
      "metadata": {
        "id": "WZdRdUtlEY-o",
        "colab_type": "text"
      },
      "source": [
        "q2"
      ]
    },
    {
      "cell_type": "code",
      "metadata": {
        "id": "kwjCsT-jEY-q",
        "colab_type": "code",
        "colab": {}
      },
      "source": [
        "a=input(\"Veuillez entrer lentier\")\n",
        "a=int(a)\n",
        "x=1\n",
        "for i in range(2,a+1):\n",
        "    x*=i\n",
        "print(x)"
      ],
      "execution_count": null,
      "outputs": []
    },
    {
      "cell_type": "markdown",
      "metadata": {
        "id": "MdorzjclEY-v",
        "colab_type": "text"
      },
      "source": [
        "q3"
      ]
    },
    {
      "cell_type": "code",
      "metadata": {
        "id": "HN8WAsZzEY-w",
        "colab_type": "code",
        "colab": {}
      },
      "source": [
        "b=int(input(\"Entrer le numéro \"))\n",
        "c={}\n",
        "for i in range(1,b+1):\n",
        "    c[i]=i*i\n",
        "print (c)"
      ],
      "execution_count": null,
      "outputs": []
    },
    {
      "cell_type": "markdown",
      "metadata": {
        "id": "EH2pWr_qEY-1",
        "colab_type": "text"
      },
      "source": [
        "q4"
      ]
    },
    {
      "cell_type": "code",
      "metadata": {
        "id": "U5iXczzeEY-2",
        "colab_type": "code",
        "colab": {
          "base_uri": "https://localhost:8080/",
          "height": 85
        },
        "outputId": "42551054-6fd5-4faf-8046-7f06886680d7"
      },
      "source": [
        "from math import *\n",
        "e=input(\"Entrer la serie\")\n",
        "e=e.split(\",\")\n",
        "for i in e:\n",
        "    print ((int(sqrt((100*int(i))/30))))"
      ],
      "execution_count": 10,
      "outputs": [
        {
          "output_type": "stream",
          "text": [
            "Entrer la serie100,200,300\n",
            "18\n",
            "25\n",
            "31\n"
          ],
          "name": "stdout"
        }
      ]
    },
    {
      "cell_type": "markdown",
      "metadata": {
        "id": "SguL269dEY-6",
        "colab_type": "text"
      },
      "source": [
        "q5"
      ]
    },
    {
      "cell_type": "code",
      "metadata": {
        "id": "99F-qExkEY-6",
        "colab_type": "code",
        "colab": {
          "base_uri": "https://localhost:8080/",
          "height": 34
        },
        "outputId": "ee4bce78-d1bb-4eff-c2d1-6ca0b1afdae2"
      },
      "source": [
        "def delete(i,chaine):\n",
        "    return chaine[:i]+chaine[i+1:]\n",
        "print(delete(2,\"ordinateur\"))"
      ],
      "execution_count": 1,
      "outputs": [
        {
          "output_type": "stream",
          "text": [
            "orinateur\n"
          ],
          "name": "stdout"
        }
      ]
    },
    {
      "cell_type": "markdown",
      "metadata": {
        "id": "GNqaqLOOEY-9",
        "colab_type": "text"
      },
      "source": [
        "q6"
      ]
    },
    {
      "cell_type": "code",
      "metadata": {
        "id": "gpWRHvEQEY--",
        "colab_type": "code",
        "colab": {}
      },
      "source": [
        "ch=\"g fmnc wms bgblr rpylqjyrc gr zw fylb. rfyrq ufyr amknsrcpq ypc dmp. bmgle gr gl zw fylb gq glcddgagclr ylb rfyr'q ufw rfgq rcvr gq qm jmle. sqgle qrpgle.kyicrpylq() gq pcamkkclbcb. lmu ynnjw ml rfc spj\"\n",
        "def decryptage (ch):\n",
        "    ch1=''\n",
        "    for i in range(0,len(ch)):\n",
        "        if (ch[i].isalpha()):\n",
        "            if(ch[i]=='y'):\n",
        "                ch1=ch1+'a'\n",
        "            elif(ch[i]=='z'):\n",
        "                ch1=ch1+'b'\n",
        "            else :\n",
        "                ch1=ch1+chr(ord(ch[i])+2)\n",
        "        else:\n",
        "            ch1=ch1+ch[i]\n",
        "    return (ch1)\n",
        "print(decryptage(ch))"
      ],
      "execution_count": null,
      "outputs": []
    },
    {
      "cell_type": "markdown",
      "metadata": {
        "id": "btWY01uwEY_B",
        "colab_type": "text"
      },
      "source": [
        "q7"
      ]
    },
    {
      "cell_type": "code",
      "metadata": {
        "id": "ypA1RxgiEY_C",
        "colab_type": "code",
        "colab": {
          "base_uri": "https://localhost:8080/",
          "height": 34
        },
        "outputId": "35a00d33-fe17-4361-d1f9-0355b3852c52"
      },
      "source": [
        "import numpy as np\n",
        "a = np.array([[0,1],[2,3],[4,5]]).tolist() \n",
        "print(a)\n",
        "\n"
      ],
      "execution_count": 11,
      "outputs": [
        {
          "output_type": "stream",
          "text": [
            "[[0, 1], [2, 3], [4, 5]]\n"
          ],
          "name": "stdout"
        }
      ]
    },
    {
      "cell_type": "code",
      "metadata": {
        "id": "0wlNoIlYbfL7",
        "colab_type": "code",
        "colab": {}
      },
      "source": [
        ""
      ],
      "execution_count": null,
      "outputs": []
    },
    {
      "cell_type": "markdown",
      "metadata": {
        "id": "H5vUj6prEY_F",
        "colab_type": "text"
      },
      "source": [
        "q8\n"
      ]
    },
    {
      "cell_type": "code",
      "metadata": {
        "id": "9EUUHn2rEY_G",
        "colab_type": "code",
        "colab": {}
      },
      "source": [
        "import numpy as np\n",
        "x=np.array([[0,1,2],[2,1,0]]) \n",
        "np.cov(x)\n"
      ],
      "execution_count": null,
      "outputs": []
    }
  ]
}